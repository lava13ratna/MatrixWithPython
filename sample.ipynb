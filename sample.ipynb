{
  "nbformat": 4,
  "nbformat_minor": 0,
  "metadata": {
    "colab": {
      "provenance": [],
      "authorship_tag": "ABX9TyPRncaiqP+YIJCyUZnx4/9T",
      "include_colab_link": true
    },
    "kernelspec": {
      "name": "python3",
      "display_name": "Python 3"
    },
    "language_info": {
      "name": "python"
    }
  },
  "cells": [
    {
      "cell_type": "markdown",
      "metadata": {
        "id": "view-in-github",
        "colab_type": "text"
      },
      "source": [
        "<a href=\"https://colab.research.google.com/github/lava13ratna/MatrixWithPython/blob/main/pythonSkolPaper.ipynb\" target=\"_parent\"><img src=\"https://colab.research.google.com/assets/colab-badge.svg\" alt=\"Open In Colab\"/></a>"
      ]
    },
    {
      "cell_type": "code",
      "execution_count": 1,
      "metadata": {
        "id": "56G8YBj2kPcH"
      },
      "outputs": [],
      "source": [
        "################################## Python old paper ###################################################################\n",
        "import numpy as np\n",
        "from scipy.integrate import solve_ivp \n",
        "import scipy.stats as st\n",
        "from scipy import signal\n",
        "import matplotlib.pyplot as plt"
      ]
    },
    {
      "cell_type": "code",
      "source": [
        "import numpy as np\n",
        "from numpy.linalg import eig\n",
        "A = np.array([[2, -1,-1], \n",
        "              [-1,2, -1],\n",
        "              [-1,-1,2]])\n",
        "w,v=eig(A)\n",
        "print(w)\n",
        "print(v)"
      ],
      "metadata": {
        "colab": {
          "base_uri": "https://localhost:8080/"
        },
        "id": "Yn-LbOSsbhu-",
        "outputId": "f23ac503-9f63-4397-ea64-d0fb87a5224e"
      },
      "execution_count": 2,
      "outputs": [
        {
          "output_type": "stream",
          "name": "stdout",
          "text": [
            "[ 3.0000000e+00 -4.4408921e-16  3.0000000e+00]\n",
            "[[ 0.81649658 -0.57735027  0.29329423]\n",
            " [-0.40824829 -0.57735027 -0.80655913]\n",
            " [-0.40824829 -0.57735027  0.5132649 ]]\n"
          ]
        }
      ]
    },
    {
      "cell_type": "code",
      "source": [
        "#Question 1\n",
        "A = np.array([[1, 2],[3, 4]])   \n",
        "b=np.array([5,6])\n",
        "c=np.array([0,1])\n",
        "print(A.T+c)\n",
        "print(np.dot(A.T+c,b))"
      ],
      "metadata": {
        "colab": {
          "base_uri": "https://localhost:8080/"
        },
        "id": "acGAJEDtkfOf",
        "outputId": "3997a6e6-ec36-4258-d2ca-df12a1be1870"
      },
      "execution_count": null,
      "outputs": [
        {
          "output_type": "stream",
          "name": "stdout",
          "text": [
            "[[1 4]\n",
            " [2 5]]\n",
            "[29 40]\n"
          ]
        }
      ]
    },
    {
      "cell_type": "code",
      "source": [
        "#Question2\n",
        "A=np.arange(9).reshape(3,-1)  #3row and needed column\n",
        "B=np.eye(3)  #3*3 identity matrix\n",
        "print(np.trace(A-2*B))   #sum od diagonal elements"
      ],
      "metadata": {
        "colab": {
          "base_uri": "https://localhost:8080/"
        },
        "id": "UT16OPr8thvH",
        "outputId": "397d74ff-b967-407a-9c80-866c0096cb8c"
      },
      "execution_count": 3,
      "outputs": [
        {
          "output_type": "stream",
          "name": "stdout",
          "text": [
            "6.0\n"
          ]
        }
      ]
    },
    {
      "cell_type": "code",
      "source": [
        "#Question3\n",
        "I = np.array([\n",
        "[1, 1, 1, 1, 0, 0, 0, 0],\n",
        "[1, 1, 1, 1, 0, 0, 0, 0],\n",
        "[1, 1, 1, 1, 0, 0, 0, 0],\n",
        "[1, 1, 1, 1, 0, 0, 0, 0],\n",
        "[0, 0, 0, 0, 1, 1, 1, 1],\n",
        "[0, 0, 0, 0, 1, 1, 1, 1],\n",
        "[0, 0, 0, 0, 1, 1, 1, 1],\n",
        "])\n",
        "S_x=np.outer(np.array([1,2,1]).T,np.array([-1,0,1]))\n",
        "print(S_x)\n",
        "print(signal.convolve2d(I, S_x, boundary='symm'))\n"
      ],
      "metadata": {
        "colab": {
          "base_uri": "https://localhost:8080/"
        },
        "id": "RJzJ5G9Nvotk",
        "outputId": "7490e2ae-3663-4b73-a334-1fbc15b0e86a"
      },
      "execution_count": null,
      "outputs": [
        {
          "output_type": "stream",
          "name": "stdout",
          "text": [
            "[[-1  0  1]\n",
            " [-2  0  2]\n",
            " [-1  0  1]]\n",
            "[[ 0  0  0  0  4  4  0  0  0  0]\n",
            " [ 0  0  0  0  4  4  0  0  0  0]\n",
            " [ 0  0  0  0  4  4  0  0  0  0]\n",
            " [ 0  0  0  0  4  4  0  0  0  0]\n",
            " [ 0  0  0  0  2  2  0  0  0  0]\n",
            " [ 0  0  0  0 -2 -2  0  0  0  0]\n",
            " [ 0  0  0  0 -4 -4  0  0  0  0]\n",
            " [ 0  0  0  0 -4 -4  0  0  0  0]\n",
            " [ 0  0  0  0 -4 -4  0  0  0  0]]\n"
          ]
        }
      ]
    },
    {
      "cell_type": "code",
      "source": [
        "#Question4\n",
        "from sympy import Symbol, Limit, sin \n",
        "x =Symbol('x')\n",
        "ans = Limit(np.power((1 + (1 / x)), x), x, np.inf).doit() \n",
        "print(round(ans, 2))"
      ],
      "metadata": {
        "colab": {
          "base_uri": "https://localhost:8080/"
        },
        "id": "JWMwujAQ-iud",
        "outputId": "71339f3e-5d50-4c8f-cc70-e91b9b09bc2d"
      },
      "execution_count": null,
      "outputs": [
        {
          "output_type": "stream",
          "name": "stdout",
          "text": [
            "2.72\n"
          ]
        }
      ]
    },
    {
      "cell_type": "code",
      "source": [
        "#Question5\n",
        "#https://www.codecademy.com/forum_questions/5197bdaf9b22072db500228d\n",
        "def is_prime(num):                                       #** power, // quotient, %remainder\n",
        "  for n in range(2, int(num ** 1/2) + 1):                #**1/2 squareroot        because num^1/2\n",
        "    if num% n == 0:\n",
        "      return False\n",
        "  return True\n",
        "\n",
        "def sum_digits(num):\n",
        "  return (num % 10) + (num // 10)                        #//10 means gives quotient of division    Eg:10/3    quotient:3\n",
        "  \n",
        "a, b = [2**i for i in range(4, 6)]                       #2**i means 2^i     range(4,6)takes value 4 & 5       so a=16     b=32\n",
        "c, d =[10*i for i in range(2, 4)]                        #10*i  means direct multiplication   range(2,4) takes values 2 &3    so c=20    d=30 \n",
        "a1 = np.arange(a,b)                                      #a1= 16 17 18 .......31\n",
        "a2= np.arange(c, d)                                      #a2= 20 21 22 23  .................29\n",
        "s1 = set(filter(is_prime, a1))                           #s1 is prime numbers in a1         s1=17,19,23,29,31\n",
        "s2 = set([i for i in a2 if sum_digits(i) < 2**3])        #E.g 20 =>  20%10=0   +    20//10=2   =>2    2<2^3   so print 20\n",
        "print(len(s1.union(s2)))\n"
      ],
      "metadata": {
        "colab": {
          "base_uri": "https://localhost:8080/"
        },
        "id": "fHcdmK9RDlsO",
        "outputId": "b0864540-fa72-48dd-f318-5990281f539e"
      },
      "execution_count": null,
      "outputs": [
        {
          "output_type": "stream",
          "name": "stdout",
          "text": [
            "{20, 21, 22, 23, 24, 25}\n",
            "10\n"
          ]
        }
      ]
    },
    {
      "cell_type": "code",
      "source": [
        "#Question6 ****************\n",
        "import pandas as pd\n",
        "from sklearn.neighbors import KernelDensity \n",
        "from scipy.integrate import quad\n",
        "def pdf2cdf(X): \n",
        "  '''\n",
        "  Calculates cumulative distribution function (CDF) using integration\n",
        "  '''\n",
        "  kde = KernelDensity(kernel='gaussian', bandwidth=0.75).fit(X[:, np.newaxis])\n",
        "  gmm_pdf = lambda x: np.exp(kde.score(np.array([x]).reshape(-1, 1)))\n",
        "  x_cdf = np.arange(-5, 20, 0.1) \n",
        "  y_cdf = np.array([tup[0]\n",
        "                    for tup in [quad(gmm_pdf, a, b) \n",
        "                      for a, b in [(a, b)\n",
        "                       for a, b in zip(x_cdf, x_cdf[1:len(x_cdf)])]]] + [0]).cumsum()\n",
        "  return x_cdf,y_cdf\n",
        "N = 10000\n",
        "X = np.concatenate(( np.random.normal(10, 2, 10*N),np.random.normal(0,\t1, 2 *N)))\n",
        "s = pd.Series(X)\n",
        "fig, (ax1, ax2) = plt.subplots(1, 2, figsize=(20, 6))\n",
        "s.plot(kind='kde', bw_method='scott', ax=ax1) \n",
        "ax1.set_title('Mixed gaussian PDF')\n",
        "x,y_cdf=pdf2cdf(X)\n",
        "ax2.plot(x, y_cdf, color='b')\n",
        "ax2.set_title('CDF from integration over gaussian-mixture PDF')\n",
        "\n",
        "  \n",
        "\n",
        "\n",
        "\n",
        "\n",
        "\n",
        "\n"
      ],
      "metadata": {
        "colab": {
          "base_uri": "https://localhost:8080/",
          "height": 407
        },
        "id": "3HbNXogTVY9u",
        "outputId": "3c144ae2-6fe0-4ef0-9eb8-b21f7863561b"
      },
      "execution_count": null,
      "outputs": [
        {
          "output_type": "execute_result",
          "data": {
            "text/plain": [
              "Text(0.5, 1.0, 'CDF from integration over gaussian-mixture PDF')"
            ]
          },
          "metadata": {},
          "execution_count": 10
        },
        {
          "output_type": "display_data",
          "data": {
            "text/plain": [
              "<Figure size 1440x432 with 2 Axes>"
            ],
            "image/png": "[encoded data removed]"
          },
          "metadata": {
            "needs_background": "light"
          }
        }
      ]
    },
    {
      "cell_type": "markdown",
      "source": [
        "**************************************************************************************python new paper************************************\n",
        "*********************************************************************"
      ],
      "metadata": {
        "id": "6z7sIKDEErg_"
      }
    },
    {
      "cell_type": "code",
      "source": [
        "################################# Python new paper ###################################################################\n",
        "import random\n",
        "import numpy as np\n",
        "import scipy.stats as st \n",
        "from scipy import signal\n",
        "import matplotlib.pyplot as plt"
      ],
      "metadata": {
        "id": "Ll0tucfME336"
      },
      "execution_count": null,
      "outputs": []
    },
    {
      "cell_type": "code",
      "source": [
        "#Question1\n",
        "A = np.array([[1, 0],[0, -1]])\n",
        "b=np.array([-42,42])\n",
        "print(sum(np.dot(A,b)))"
      ],
      "metadata": {
        "colab": {
          "base_uri": "https://localhost:8080/"
        },
        "id": "RrVac785Fk4F",
        "outputId": "058373d4-74fa-441b-8ebe-7ae774f31ad2"
      },
      "execution_count": null,
      "outputs": [
        {
          "output_type": "stream",
          "name": "stdout",
          "text": [
            "-84\n"
          ]
        }
      ]
    },
    {
      "cell_type": "code",
      "source": [
        "#Question2\n",
        "A=np.arange(9).reshape(3,-1)\n",
        "print((A-3)[:,1])"
      ],
      "metadata": {
        "colab": {
          "base_uri": "https://localhost:8080/"
        },
        "id": "DUWeKOJOG0Dy",
        "outputId": "54265bd5-d09d-4111-a50f-be4e664afaf7"
      },
      "execution_count": null,
      "outputs": [
        {
          "output_type": "stream",
          "name": "stdout",
          "text": [
            "[-2  1  4]\n"
          ]
        }
      ]
    },
    {
      "cell_type": "code",
      "source": [
        "#Question3\n",
        "I = np.array([\n",
        "[ 1, 1, 1, 1, -1, -1, -1, -1],\n",
        "[ 1, 1, 1, 1, -1, -1, -1, -1],\n",
        "[ 1, 1, 1, 1, -1, -1, -1, -1],\n",
        "[ 1, 1, 1, 1, -1, -1, -1, -1],\n",
        "[-1, -1, -1, -1, 1, 1, 1, 1],\n",
        "[-1, -1, -1, -1, 1, 1, 1, 1],\n",
        "[-1, -1, -1, -1, 1, 1, 1, 1],\n",
        "[-1, -1, -1, -1, 1, 1, 1, 1]\n",
        "])\n",
        "S_y = np.array([[-1, -2, -1],\n",
        "                [ 0, 0, 0],\n",
        "                [ 1, 2, 1]])\n",
        "print(signal.convolve2d(I, S_y, boundary='symm'))"
      ],
      "metadata": {
        "colab": {
          "base_uri": "https://localhost:8080/"
        },
        "id": "67H68M5MJDs2",
        "outputId": "e2c1ffb0-1cff-433a-e962-284a2d198418"
      },
      "execution_count": null,
      "outputs": [
        {
          "output_type": "stream",
          "name": "stdout",
          "text": [
            "[[ 0  0  0  0  0  0  0  0  0  0]\n",
            " [ 0  0  0  0  0  0  0  0  0  0]\n",
            " [ 0  0  0  0  0  0  0  0  0  0]\n",
            " [ 0  0  0  0  0  0  0  0  0  0]\n",
            " [ 8  8  8  8  4 -4 -8 -8 -8 -8]\n",
            " [ 8  8  8  8  4 -4 -8 -8 -8 -8]\n",
            " [ 0  0  0  0  0  0  0  0  0  0]\n",
            " [ 0  0  0  0  0  0  0  0  0  0]\n",
            " [ 0  0  0  0  0  0  0  0  0  0]\n",
            " [ 0  0  0  0  0  0  0  0  0  0]]\n"
          ]
        }
      ]
    },
    {
      "cell_type": "code",
      "source": [
        "#Question4\n",
        "from sympy import Symbol,Limit,sin\n",
        "x = Symbol('x')\n",
        "ans = Limit((3 * x**2) / (x**2), x,np.inf).doit() \n",
        "print(round(ans,2))\n",
        "\n",
        "\n"
      ],
      "metadata": {
        "id": "2isd79-MLiwC",
        "colab": {
          "base_uri": "https://localhost:8080/"
        },
        "outputId": "f882ee3c-d59f-4e06-e5d0-85babaa5b0f5"
      },
      "execution_count": null,
      "outputs": [
        {
          "output_type": "stream",
          "name": "stdout",
          "text": [
            "3\n"
          ]
        }
      ]
    },
    {
      "cell_type": "code",
      "source": [
        "#Question5    *******************\n",
        "def count_cell_neighbors(M, row, col):\n",
        "  neighbors = M[max(0, row-1):min(row+2, M.shape[0]),max(0, col-1):min(col+2, M.shape[1])]\n",
        "  return neighbors.sum()-M[row,col]\n",
        "M=np.array([[0,0,0,0],[0,0,1,0],[0,0,1,1],[0,0,0,0]])\n",
        "A = np.zeros_like(M)\n",
        "print(M.shape[0])\n",
        "print(M.shape[1])\n",
        "for row in range(M.shape[0]):\n",
        "  for col in range(M.shape[1]):\n",
        "    A[row, col] = count_cell_neighbors(M, row, col)\n",
        "plt.matshow(A, cmap='gray')\n",
        "plt.colorbar()  "
      ],
      "metadata": {
        "colab": {
          "base_uri": "https://localhost:8080/",
          "height": 316
        },
        "id": "xVY500aEY9JB",
        "outputId": "4097b02f-4884-4d05-c636-371c3fe2fd28"
      },
      "execution_count": null,
      "outputs": [
        {
          "output_type": "stream",
          "name": "stdout",
          "text": [
            "4\n",
            "4\n"
          ]
        },
        {
          "output_type": "execute_result",
          "data": {
            "text/plain": [
              "<matplotlib.colorbar.Colorbar at 0x7f078fbb0d00>"
            ]
          },
          "metadata": {},
          "execution_count": 82
        },
        {
          "output_type": "display_data",
          "data": {
            "text/plain": [
              "<Figure size 288x288 with 2 Axes>"
            ],
            "image/png": "[encoded data removed]"
          },
          "metadata": {
            "needs_background": "light"
          }
        }
      ]
    },
    {
      "cell_type": "code",
      "source": [
        "#Question6 ****************\n",
        "D = np.zeros((100))\n",
        "for i in range(int(1e6)):\n",
        "  rand = int(random.gauss(mu=50, sigma=10)) \n",
        "  if 0 <= rand < 100:D[rand] += 1\n",
        "for i in range(int(1e6)):\n",
        "  rand = int(random.gauss(mu=40, sigma=3)) \n",
        "  if 0 <= rand < 100:\n",
        "    if D[rand] > 0:\n",
        "      D[rand] -= 1\n",
        "D /= D.max()\n",
        "C = np.cumsum(D)\n",
        "fig, (ax1, ax2) = plt.subplots(1, 2, figsize=(20, 6))\n",
        "ax1.plot(list(range(len(D))), D)\n",
        "ax1.set_title('Gaussian mixture')\n",
        "ax2.plot(list(range(len(C))), C)\n",
        "ax2.set_title('Cumulative sum');"
      ],
      "metadata": {
        "colab": {
          "base_uri": "https://localhost:8080/",
          "height": 390
        },
        "id": "brQMRRExaMzR",
        "outputId": "5ae94a17-2bd9-4a5e-a523-0c2090ffca0d"
      },
      "execution_count": null,
      "outputs": [
        {
          "output_type": "display_data",
          "data": {
            "text/plain": [
              "<Figure size 1440x432 with 2 Axes>"
            ],
            "image/png": "[encoded data removed]"
          },
          "metadata": {
            "needs_background": "light"
          }
        }
      ]
    }
  ]
}
